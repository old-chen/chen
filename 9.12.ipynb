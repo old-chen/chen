{
 "cells": [
  {
   "cell_type": "markdown",
   "metadata": {},
   "source": [
    "# 选择\n",
    "## 布尔类型、数值和表达式\n",
    "![](../Photo/33.png)\n",
    "- 注意：比较运算符的相等是两个等号，一个等到代表赋值\n",
    "- 在Python中可以用整型0来代表False，其他数字来代表True\n",
    "- 后面还会讲到 is 在判断语句中的用发"
   ]
  },
  {
   "cell_type": "code",
   "execution_count": 8,
   "metadata": {},
   "outputs": [
    {
     "name": "stdout",
     "output_type": "stream",
     "text": [
      "输入你的分数: 90\n",
      "您的成绩优秀\n"
     ]
    }
   ],
   "source": [
    "fs = eval(input(\"输入你的分数: \"))\n",
    "if fs >= 90:\n",
    "    print(\"您的成绩优秀\")\n",
    "elif 75 <= fs <90:\n",
    "    print(\"您的成绩良好\")\n",
    "elif 60 <= fs < 75:\n",
    "    print(\"您的成绩及格\")\n",
    "else :\n",
    "    print(\"您的成绩不合格\")"
   ]
  },
  {
   "cell_type": "markdown",
   "metadata": {},
   "source": [
    "## 字符串的比较使用ASCII值"
   ]
  },
  {
   "cell_type": "markdown",
   "metadata": {},
   "source": [
    "## Markdown \n",
    "- https://github.com/younghz/Markdown"
   ]
  },
  {
   "cell_type": "markdown",
   "metadata": {},
   "source": [
    "## EP:\n",
    "- <img src=\"../Photo/34.png\"></img>\n",
    "- 输入一个数字，判断其实奇数还是偶数"
   ]
  },
  {
   "cell_type": "code",
   "execution_count": 30,
   "metadata": {},
   "outputs": [
    {
     "name": "stdout",
     "output_type": "stream",
     "text": [
      "输入一个数字5\n",
      "这是一个奇数\n"
     ]
    }
   ],
   "source": [
    "num = eval (input(\"输入一个数字\"))\n",
    "if num % 2 == 0:\n",
    "    print(\"这是一个偶数\")\n",
    "else:\n",
    "    print(\"这是一个奇数\")"
   ]
  },
  {
   "cell_type": "markdown",
   "metadata": {},
   "source": [
    "## 产生随机数字\n",
    "- 函数random.randint(a,b) 可以用来产生一个a和b之间且包括a和b的随机整数"
   ]
  },
  {
   "cell_type": "code",
   "execution_count": 12,
   "metadata": {},
   "outputs": [
    {
     "name": "stdout",
     "output_type": "stream",
     "text": [
      "请输入一个数字50\n",
      "太小了，请猜大一点\n",
      "请输入一个数字75\n",
      "太小了，请猜大一点\n",
      "请输入一个数字87\n",
      "太小了，请猜大一点\n",
      "请输入一个数字94\n",
      "太大了，请猜小一点\n",
      "请输入一个数字90\n",
      "太大了，请猜小一点\n",
      "请输入一个数字88\n",
      "太小了，请猜大一点\n",
      "请输入一个数字89\n",
      "恭喜你，猜对了\n"
     ]
    }
   ],
   "source": [
    "import random\n",
    "randint = random.randint(0,100)\n",
    "while True:\n",
    "    x = eval ( input(\"请输入一个数字\"))\n",
    "    if x == randint:\n",
    "        print(\"恭喜你，猜对了\")\n",
    "        break\n",
    "    elif x > randint:\n",
    "        print(\"太大了，请猜小一点\")\n",
    "    else :\n",
    "        print(\"太小了，请猜大一点\")"
   ]
  },
  {
   "cell_type": "markdown",
   "metadata": {},
   "source": [
    "##  其他random方法\n",
    "- random.random 返回0.0到1.0之间前闭后开区间的随机浮点\n",
    "- random.randrange(a,b) 前闭后开"
   ]
  },
  {
   "cell_type": "markdown",
   "metadata": {},
   "source": [
    "## EP：\n",
    "- 产生两个随机整数number1和number2，然后显示给用户，使用户输入数字的和，并判定其是否正确\n",
    "- 进阶:写一个随机序号点名程序"
   ]
  },
  {
   "cell_type": "code",
   "execution_count": 2,
   "metadata": {},
   "outputs": [
    {
     "name": "stdout",
     "output_type": "stream",
     "text": [
      "第一个数是 63\n",
      "第二个数是 84\n",
      "请输入他们的和147\n",
      "你真棒\n"
     ]
    }
   ],
   "source": [
    "import random\n",
    "num1 = random.randint(0,100)\n",
    "num2 = random.randint(0,100)\n",
    "num_ = num1 + num2\n",
    "print(\"第一个数是 \" + str(num1))\n",
    "print(\"第二个数是 \" + str(num2))\n",
    "while True:\n",
    "    x = eval ( input(\"请输入他们的和\"))\n",
    "    if x == num_:\n",
    "        print(\"你真棒\")\n",
    "        break\n",
    "    else :\n",
    "        print(\"太笨啦，再答一次\")"
   ]
  },
  {
   "cell_type": "code",
   "execution_count": 6,
   "metadata": {},
   "outputs": [
    {
     "name": "stdout",
     "output_type": "stream",
     "text": [
      "16\n"
     ]
    }
   ],
   "source": [
    "name = random.randint(1,50)\n",
    "print(name)"
   ]
  },
  {
   "cell_type": "code",
   "execution_count": 17,
   "metadata": {},
   "outputs": [
    {
     "name": "stdout",
     "output_type": "stream",
     "text": [
      "输入你的级别普通用户\n",
      "很遗憾未中奖，提升你的用户等级可获得更高的抽奖几率和抽奖次数\n"
     ]
    }
   ],
   "source": [
    "import random\n",
    "jibie = input(\"输入你的级别\")\n",
    "if jibie == \"高级用户\":\n",
    "    randint = random.randint(0,1)\n",
    "    if randint == 0:\n",
    "        print(\"恭喜你获得一等奖\")\n",
    "    else :\n",
    "        print(\"恭喜你获得二等奖\")\n",
    "elif jibie == \"中级用户\":\n",
    "    randint = random.randint(0,50)\n",
    "    if randint == 0:\n",
    "        print(\"恭喜你获得一等奖\")\n",
    "    elif randint == 1:\n",
    "        print(\"恭喜你获得二等奖\")\n",
    "    else :\n",
    "        print(\"很遗憾未中奖，提升你的用户等级可获得更高的抽奖几率和抽奖次数\")\n",
    "else :\n",
    "    randint = random.randint(0,100)\n",
    "    if randint == 0:\n",
    "        print(\"恭喜你获得一等奖\")\n",
    "    elif randint == 1:\n",
    "        print(\"恭喜你获得二等奖\")\n",
    "    else :\n",
    "        print(\"很遗憾未中奖，提升你的用户等级可获得更高的抽奖几率和抽奖次数\")"
   ]
  },
  {
   "cell_type": "markdown",
   "metadata": {},
   "source": [
    "## if语句\n",
    "- 如果条件正确就执行一个单向if语句，亦即当条件为真的时候才执行if内部的语句\n",
    "- Python有很多选择语句:\n",
    "> - 单向if \n",
    "  - 双向if-else\n",
    "  - 嵌套if\n",
    "  - 多向if-elif-else\n",
    "  \n",
    "- 注意：当语句含有子语句的时候，那么一定至少要有一个缩进，也就是说如果有儿子存在，那么一定要缩进\n",
    "- 切记不可tab键和space混用，单用tab 或者 space\n",
    "- 当你输出的结果是无论if是否为真时都需要显示时，语句应该与if对齐"
   ]
  },
  {
   "cell_type": "code",
   "execution_count": 12,
   "metadata": {},
   "outputs": [
    {
     "name": "stdout",
     "output_type": "stream",
     "text": [
      "年龄 31\n",
      "不见面\n"
     ]
    }
   ],
   "source": [
    "age = eval ( input(\"年龄 \"))\n",
    "if age <= 30:\n",
    "    looks = eval ( input(\"长相 \"))\n",
    "    if looks == True:\n",
    "        income = eval ( input(\"收入 \"))\n",
    "        if income == True:\n",
    "            print(\"去见面\")\n",
    "        else :\n",
    "            print(\"不见面\")\n",
    "    else :\n",
    "        print(\"不见面\")\n",
    "else :\n",
    "    print(\"不见面\")"
   ]
  },
  {
   "cell_type": "markdown",
   "metadata": {},
   "source": [
    "## EP：\n",
    "- 用户输入一个数字，判断其实奇数还是偶数\n",
    "- 进阶：可以查看下4.5实例研究猜生日"
   ]
  },
  {
   "cell_type": "code",
   "execution_count": null,
   "metadata": {},
   "outputs": [],
   "source": [
    "month = eval (input(\"输入月\"))\n",
    "day = eval (input(\"输入日\"))\n",
    "num1 = random.randint(1,12)\n",
    "num2 = random.randint(1,30)"
   ]
  },
  {
   "cell_type": "markdown",
   "metadata": {},
   "source": [
    "## 双向if-else 语句\n",
    "- 如果条件为真，那么走if内部语句，否则走else内部语句"
   ]
  },
  {
   "cell_type": "markdown",
   "metadata": {},
   "source": [
    "## EP：\n",
    "- 产生两个随机整数number1和number2，然后显示给用户，使用户输入数字，并判定其是否正确,如果正确打印“you‘re correct”，否则打印正确错误"
   ]
  },
  {
   "cell_type": "markdown",
   "metadata": {},
   "source": [
    "## 嵌套if 和多向if-elif-else\n",
    "![](../Photo/35.png)"
   ]
  },
  {
   "cell_type": "markdown",
   "metadata": {},
   "source": [
    "## EP：\n",
    "- 提示用户输入一个年份，然后显示表示这一年的动物\n",
    "![](../Photo/36.png)\n",
    "- 计算身体质量指数的程序\n",
    "- BMI = 以千克为单位的体重除以以米为单位的身高\n",
    "![](../Photo/37.png)"
   ]
  },
  {
   "cell_type": "code",
   "execution_count": 8,
   "metadata": {},
   "outputs": [
    {
     "name": "stdout",
     "output_type": "stream",
     "text": [
      "输入一个年份2018\n",
      "今年是狗年\n"
     ]
    }
   ],
   "source": [
    "years = eval (input(\"输入一个年份\"))\n",
    "if years % 12 == 0:\n",
    "    print(\"今年是猴年\")\n",
    "elif years % 12 == 1:\n",
    "    print(\"今年是鸡年\")\n",
    "elif years % 12 == 2:\n",
    "    print(\"今年是狗年\")\n",
    "elif years % 12 == 3:\n",
    "    print(\"今年是猪年\")\n",
    "elif years % 12 == 4:\n",
    "    print(\"今年是鼠年\")\n",
    "elif years % 12 == 5:\n",
    "    print(\"今年是牛年\")\n",
    "elif years % 12 == 6:\n",
    "    print(\"今年是虎年\")\n",
    "elif years % 12 == 7:\n",
    "    print(\"今年是兔年\")\n",
    "elif years % 12 == 8:\n",
    "    print(\"今年是龙年\")\n",
    "elif years % 12 == 9:\n",
    "    print(\"今年是蛇年\")\n",
    "elif years % 12 == 10:\n",
    "    print(\"今年是马年\")\n",
    "else:\n",
    "    print(\"今年是羊年\")"
   ]
  },
  {
   "cell_type": "code",
   "execution_count": 22,
   "metadata": {},
   "outputs": [
    {
     "name": "stdout",
     "output_type": "stream",
     "text": [
      "请输入您的身高（单位为米）1.87\n",
      "请输入您的体重（单位为千克）90\n",
      "您的体重超重\n"
     ]
    }
   ],
   "source": [
    "height = eval (input (\"请输入您的身高（单位为米）\"))\n",
    "weight = eval (input (\"请输入您的体重（单位为千克）\"))\n",
    "BMI = weight / (height * height)\n",
    "if BMI < 18.5:\n",
    "    print(\"您的体重超轻\")\n",
    "elif 18.5 <= BMI <= 25.0:\n",
    "    print(\"您的体重标准\")\n",
    "elif 25.0 <= BMI <= 30.0:\n",
    "    print(\"您的体重超重\")\n",
    "else:\n",
    "    print(\"您的体重痴肥\")"
   ]
  },
  {
   "cell_type": "markdown",
   "metadata": {},
   "source": [
    "## 逻辑运算符\n",
    "![](../Photo/38.png)"
   ]
  },
  {
   "cell_type": "markdown",
   "metadata": {},
   "source": [
    "![](../Photo/39.png)\n",
    "![](../Photo/40.png)"
   ]
  },
  {
   "cell_type": "markdown",
   "metadata": {},
   "source": [
    "## EP：\n",
    "- 判定闰年：一个年份如果能被4整除但不能被100整除，或者能被400整除，那么这个年份就是闰年\n",
    "- 提示用户输入一个年份，并返回是否是闰年\n",
    "- 提示用户输入一个数字，判断其是否为水仙花数"
   ]
  },
  {
   "cell_type": "code",
   "execution_count": 25,
   "metadata": {},
   "outputs": [
    {
     "name": "stdout",
     "output_type": "stream",
     "text": [
      "输入一个年份2015\n",
      "2015不是闰年\n"
     ]
    }
   ],
   "source": [
    "years = eval (input (\"输入一个年份\"))\n",
    "if (years % 4 == 0) and (years % 100 != 0) or (years % 400 == 0):\n",
    "    print(str(years) + \"是闰年\")\n",
    "else:\n",
    "    print(str(years) + \"不是闰年\")"
   ]
  },
  {
   "cell_type": "code",
   "execution_count": 29,
   "metadata": {},
   "outputs": [
    {
     "name": "stdout",
     "output_type": "stream",
     "text": [
      "输入一个3位数字153\n",
      "这是一个水仙花数\n"
     ]
    }
   ],
   "source": [
    "shu = eval (input(\"输入一个3位数字\"))\n",
    "ge = shu % 10\n",
    "a = shu // 10\n",
    "shi = a % 10\n",
    "b = a // 10\n",
    "bai = b % 10\n",
    "if ge **3 + shi **3 + bai **3 == shu:\n",
    "    print(\"这是一个水仙花数\")\n",
    "else:\n",
    "    print(\"这不是一个水仙花数\")"
   ]
  },
  {
   "cell_type": "markdown",
   "metadata": {},
   "source": [
    "## 实例研究：彩票\n",
    "![](../Photo/41.png)"
   ]
  },
  {
   "cell_type": "code",
   "execution_count": 16,
   "metadata": {},
   "outputs": [
    {
     "name": "stdout",
     "output_type": "stream",
     "text": [
      "输入一个两位数：20\n",
      "中奖号码32\n",
      "恭喜你，奖金为1000元\n"
     ]
    }
   ],
   "source": [
    "import random\n",
    "num = eval(input(\"输入一个两位数：\"))\n",
    "randint = random.randint(10,99)\n",
    "a1 = randint % 10         #a1为随机数的各位数\n",
    "b1 = randint // 10        #b1为随机数的十位数\n",
    "a2 = num % 10             #a2为输入数的各位数\n",
    "b2 = num // 10            #b2为输入数的十位数\n",
    "print(\"中奖号码\" + str(randint))\n",
    "if (a1 == a2) and (b1 == b2):\n",
    "    print(\"恭喜你，奖金为10000元\")\n",
    "elif (a1 == b2) and (b1 == a2):\n",
    "    print(\"恭喜你，奖金为3000元\")\n",
    "elif (a1 == a2) and (b1 != b2) or (a1 == b2) and (b1 != a2) or (a1 != a2) and (b1 == b2) or (a1 != b2) and (b1 == a2):\n",
    "    print(\"恭喜你，奖金为1000元\")\n",
    "else:\n",
    "    print(\"未中奖\")"
   ]
  },
  {
   "cell_type": "markdown",
   "metadata": {},
   "source": [
    "# Homework\n",
    "- 1\n",
    "![](../Photo/42.png)"
   ]
  },
  {
   "cell_type": "code",
   "execution_count": 28,
   "metadata": {},
   "outputs": [
    {
     "name": "stdout",
     "output_type": "stream",
     "text": [
      "输入3个数1,2,3\n",
      "这个方程没有根\n"
     ]
    }
   ],
   "source": [
    "import math\n",
    "a,b,c = eval (input(\"输入3个数\"))\n",
    "if b**2 - 4 * a * c > 0:\n",
    "    r1 = (-b + math.sqrt(b**2 - 4 * a * c)) / 2 * a\n",
    "    r2 = (-b - math.sqrt(b**2 - 4 * a * c)) / 2 * a\n",
    "    print(\"这方程有两个根：\" + str(r1) + \"  and  \" + str(r2))\n",
    "elif b**2 - 4 * a * c == 0:\n",
    "    r1 = (-b + math.sqrt(b**2 - 4 * a * c)) / 2 * a\n",
    "    print(\"这方程有一个根：\" + str(r1))\n",
    "else :\n",
    "    print(\"这个方程没有根\")"
   ]
  },
  {
   "cell_type": "markdown",
   "metadata": {},
   "source": [
    "- 2\n",
    "![](../Photo/43.png)"
   ]
  },
  {
   "cell_type": "code",
   "execution_count": 30,
   "metadata": {},
   "outputs": [
    {
     "name": "stdout",
     "output_type": "stream",
     "text": [
      "请输入他们的和50\n",
      "假\n"
     ]
    }
   ],
   "source": [
    "import random\n",
    "num1 = random.randint(0,99)\n",
    "num2 = random.randint(0,99)\n",
    "num_ = num1 + num2\n",
    "x = eval ( input(\"请输入他们的和\"))\n",
    "if x == num_:\n",
    "    print(\"真\")\n",
    "else :\n",
    "    print(\"假\")"
   ]
  },
  {
   "cell_type": "markdown",
   "metadata": {},
   "source": [
    "- 3\n",
    "![](../Photo/44.png)"
   ]
  },
  {
   "cell_type": "code",
   "execution_count": 21,
   "metadata": {},
   "outputs": [
    {
     "name": "stdout",
     "output_type": "stream",
     "text": [
      "今天的编号是8\n",
      "您输入的编号不正确，请重新输入，输入的范围为0-6\n",
      "今天的编号是1\n",
      "今天之后到未来的多少天3\n",
      "今天是星期一 3天后是星期四\n"
     ]
    }
   ],
   "source": [
    "while True:\n",
    "    day = eval(input(\"今天的编号是\"))\n",
    "    if day <= 6 :\n",
    "        day2 = eval(input(\"今天之后到未来的多少天\"))\n",
    "        day_ = (day + day2) % 7\n",
    "        if day == 0:\n",
    "            x = (\"今天是星期日 \")\n",
    "        elif day == 1:\n",
    "            x = (\"今天是星期一 \")\n",
    "        elif day == 2:\n",
    "            x = (\"今天是星期二 \")\n",
    "        elif day == 3:\n",
    "            x = (\"今天是星期三 \")\n",
    "        elif day == 4:\n",
    "            x = (\"今天是星期四 \")\n",
    "        elif day == 5:\n",
    "            x = (\"今天是星期五 \")\n",
    "        else :\n",
    "            x = (\"今天是星期六 \")\n",
    "        if day_ == 0:\n",
    "            a = (\"星期日\")\n",
    "        elif day_ == 1:\n",
    "            a = (\"星期一\")\n",
    "        elif day_ == 2:\n",
    "            a = (\"星期二\")\n",
    "        elif day_ == 3:\n",
    "            a = (\"星期三\")\n",
    "        elif day_ == 4:\n",
    "            a = (\"星期四\")\n",
    "        elif day_ == 5:\n",
    "            a = (\"星期五\")\n",
    "        else :\n",
    "            a = (\"星期六\")\n",
    "        print(str(x) + str(day2) + \"天后是\" + str(a))\n",
    "        break\n",
    "    else :\n",
    "        print(\"您输入的编号不正确，请重新输入，输入的范围为0-6\")"
   ]
  },
  {
   "cell_type": "markdown",
   "metadata": {},
   "source": [
    "- 4\n",
    "![](../Photo/45.png)"
   ]
  },
  {
   "cell_type": "code",
   "execution_count": 26,
   "metadata": {},
   "outputs": [
    {
     "name": "stdout",
     "output_type": "stream",
     "text": [
      "请输入三个整数5,5,3\n",
      "3 5 5\n"
     ]
    }
   ],
   "source": [
    "a,b,c = eval (input(\"请输入三个整数\"))\n",
    "if a >= b >= c:\n",
    "    print(c,b,a)\n",
    "elif a >= c >= b:\n",
    "    print(b,c,a)\n",
    "elif b >= c >= a:\n",
    "    print(a,c,b)\n",
    "elif b >= a >= c:\n",
    "    print(c,a,b)\n",
    "elif c >= a >= b:\n",
    "    print(b,a,c)\n",
    "else :\n",
    "    print(a,b,c)"
   ]
  },
  {
   "cell_type": "markdown",
   "metadata": {},
   "source": [
    "- 5\n",
    "![](../Photo/46.png)"
   ]
  },
  {
   "cell_type": "code",
   "execution_count": 25,
   "metadata": {},
   "outputs": [
    {
     "name": "stdout",
     "output_type": "stream",
     "text": [
      "输入第一种大米的重量和价格：50,24.59\n",
      "输入第二种大米的重量和价格：25,11.99\n",
      "第二种大米更好\n"
     ]
    }
   ],
   "source": [
    "weight,price = eval (input(\"输入第一种大米的重量和价格：\"))\n",
    "weight_,price_ = eval (input(\"输入第二种大米的重量和价格：\"))\n",
    "a = price / weight\n",
    "b = price_ / weight_\n",
    "if a < b:\n",
    "    print(\"第一种大米更好\")\n",
    "elif a > b:\n",
    "    print(\"第二种大米更好\")\n",
    "else :\n",
    "    print(\"二种大米一样好\")"
   ]
  },
  {
   "cell_type": "markdown",
   "metadata": {},
   "source": [
    "- 6\n",
    "![](../Photo/47.png)"
   ]
  },
  {
   "cell_type": "code",
   "execution_count": 50,
   "metadata": {},
   "outputs": [
    {
     "name": "stdout",
     "output_type": "stream",
     "text": [
      "输入月3\n",
      "输入年2005\n",
      "2005年3月有31天\n"
     ]
    }
   ],
   "source": [
    "month = eval (input(\"输入月\"))\n",
    "years = eval (input(\"输入年\"))\n",
    "if (years % 4 == 0) and (years % 100 != 0) or (years % 400 == 0):\n",
    "    if month == 2:\n",
    "        day = 29\n",
    "    elif month == 1 or 3 or 5 or 7 or 8 or 10 or 12:\n",
    "        day = 31\n",
    "    else :\n",
    "        day = 30\n",
    "else:\n",
    "    if month == 2:\n",
    "        day = 28\n",
    "    elif month == 1 or 3 or 5 or 7 or 8 or 10 or 12:\n",
    "        day = 31\n",
    "    else :\n",
    "        day = 30\n",
    "print(str(years) + \"年\" + str(month) + \"月有\" + str(day) + \"天\")"
   ]
  },
  {
   "cell_type": "markdown",
   "metadata": {},
   "source": [
    "- 7\n",
    "![](../Photo/48.png)"
   ]
  },
  {
   "cell_type": "code",
   "execution_count": 52,
   "metadata": {},
   "outputs": [
    {
     "name": "stdout",
     "output_type": "stream",
     "text": [
      "输入你的猜想（0代表正面，1代表反面）1\n",
      "猜对了，你真棒\n"
     ]
    }
   ],
   "source": [
    "import random\n",
    "guess = eval (input(\"输入你的猜想（0代表正面，1代表反面）\"))\n",
    "randint = random.randint(0,1)\n",
    "if guess == randint:\n",
    "    print(\"猜对了，你真棒\")\n",
    "else :\n",
    "    print(\"猜错了\")"
   ]
  },
  {
   "cell_type": "markdown",
   "metadata": {},
   "source": [
    "- 8\n",
    "![](../Photo/49.png)"
   ]
  },
  {
   "cell_type": "code",
   "execution_count": 56,
   "metadata": {},
   "outputs": [
    {
     "name": "stdout",
     "output_type": "stream",
     "text": [
      "输入你的猜想（0代表剪刀，1代表石头，2代表布）2\n",
      "你赢了\n"
     ]
    }
   ],
   "source": [
    "import random\n",
    "randint = random.randint(0,2)\n",
    "guess = eval (input(\"输入你的猜想（0代表剪刀，1代表石头，2代表布）\"))\n",
    "if (guess == 0) and (randint == 2) or (guess == 1) and (randint == 0) or (guess == 2) and (randint == 1):\n",
    "    print(\"你赢了\")\n",
    "elif (guess == 0) and (randint == 1) or (guess == 1) and (randint == 2) or (guess == 2) and (randint == 0):\n",
    "    print(\"你输了\")\n",
    "else :\n",
    "    print(\"平局\")"
   ]
  },
  {
   "cell_type": "markdown",
   "metadata": {},
   "source": [
    "- 9\n",
    "![](../Photo/50.png)"
   ]
  },
  {
   "cell_type": "code",
   "execution_count": 80,
   "metadata": {},
   "outputs": [
    {
     "name": "stdout",
     "output_type": "stream",
     "text": [
      "输入一个年份：2012\n",
      "输入一个月份：1-12：5\n",
      "输入一个日期：1-31：12\n",
      "它是一周中的星期六\n"
     ]
    }
   ],
   "source": [
    "years = eval (input(\"输入一个年份：\"))\n",
    "month = eval (input(\"输入一个月份：1-12：\"))\n",
    "day = eval (input(\"输入一个日期：1-31：\"))\n",
    "if month == 1:\n",
    "    m = 13\n",
    "    y = years - 1\n",
    "    j = y / 100 // 1\n",
    "    k = y % 100\n",
    "    q = day\n",
    "    h = (q + 26 * (m + 1) / 10 // 1 + k + k / 4 // 1 + j / 4 // 1 + 5 * j) % 7\n",
    "elif month == 2:\n",
    "    m = 14\n",
    "    y = years - 1\n",
    "    j = y / 100 // 1\n",
    "    k = y % 100\n",
    "    q = day\n",
    "    h = (q + 26 * (m + 1) / 10 // 1 + k + k / 4 // 1 + j / 4 // 1 + 5 * j) % 7\n",
    "else :\n",
    "    m = month\n",
    "    j = y / 100 // 1\n",
    "    k = y % 100\n",
    "    q = day\n",
    "    h = (q + 26 * (m + 1) / 10 // 1 + k + k / 4 // 1 + j / 4 // 1 + 5 * j) % 7\n",
    "if h == 0:\n",
    "    a = \"星期六\"\n",
    "elif h == 1:\n",
    "    a = \"星期日\"\n",
    "elif h == 2:\n",
    "    a = \"星期一\"\n",
    "elif h == 3:\n",
    "    a = \"星期二\"\n",
    "elif h == 4:\n",
    "    a = \"星期三\"\n",
    "elif h == 5:\n",
    "    a = \"星期四\"\n",
    "elif h == 6:\n",
    "    a = \"星期五\"\n",
    "print(\"它是一周中的\" + str(a))"
   ]
  },
  {
   "cell_type": "markdown",
   "metadata": {},
   "source": [
    "- 10\n",
    "![](../Photo/51.png)"
   ]
  },
  {
   "cell_type": "code",
   "execution_count": 86,
   "metadata": {},
   "outputs": [
    {
     "name": "stdout",
     "output_type": "stream",
     "text": [
      "这张牌是黑桃Jack\n"
     ]
    }
   ],
   "source": [
    "import random\n",
    "s = [\"Ace\",\"2\",\"3\",\"4\",\"5\",\"6\",\"7\",\"8\",\"9\",\"10\",\"Jack\",\"Queen\",\"King\"]\n",
    "m = [\"梅花\",\"红桃\",\"方块\",\"黑桃\"]\n",
    "randint1 = random.randint(0,12)\n",
    "randint2 = random.randint(0,3)\n",
    "print(\"这张牌是\" + str(m[randint2]) + str(s[randint1]))"
   ]
  },
  {
   "cell_type": "markdown",
   "metadata": {},
   "source": [
    "- 11\n",
    "![](../Photo/52.png)"
   ]
  },
  {
   "cell_type": "code",
   "execution_count": 61,
   "metadata": {},
   "outputs": [
    {
     "name": "stdout",
     "output_type": "stream",
     "text": [
      "输入一个三位数：123\n",
      "这不是一个回文数\n"
     ]
    }
   ],
   "source": [
    "num = eval(input(\"输入一个三位数：\"))\n",
    "ge = num % 10\n",
    "a = num // 10\n",
    "shi = a %10\n",
    "b = a // 10\n",
    "bai = b % 10\n",
    "if ge == bai:\n",
    "    print(\"这是一个回文数\")\n",
    "else:\n",
    "    print(\"这不是一个回文数\")"
   ]
  },
  {
   "cell_type": "markdown",
   "metadata": {},
   "source": [
    "- 12\n",
    "![](../Photo/53.png)"
   ]
  },
  {
   "cell_type": "code",
   "execution_count": 59,
   "metadata": {},
   "outputs": [
    {
     "name": "stdout",
     "output_type": "stream",
     "text": [
      "输入三角形三个边的边长1,1,1\n",
      "三角形的周长是3\n"
     ]
    }
   ],
   "source": [
    "a,b,c = eval (input(\"输入三角形三个边的边长\"))      #a,b,c是三角形的三个边\n",
    "if c < a + b:\n",
    "    s = a + b + c                                   #s是三角形的周长\n",
    "    print(\"三角形的周长是\" + str(s))\n",
    "else :\n",
    "    print(\"这个输入是非法的\")"
   ]
  }
 ],
 "metadata": {
  "kernelspec": {
   "display_name": "Python 3",
   "language": "python",
   "name": "python3"
  },
  "language_info": {
   "codemirror_mode": {
    "name": "ipython",
    "version": 3
   },
   "file_extension": ".py",
   "mimetype": "text/x-python",
   "name": "python",
   "nbconvert_exporter": "python",
   "pygments_lexer": "ipython3",
   "version": "3.6.4"
  }
 },
 "nbformat": 4,
 "nbformat_minor": 2
}

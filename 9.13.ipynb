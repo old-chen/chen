{
 "cells": [
  {
   "cell_type": "markdown",
   "metadata": {},
   "source": [
    "# 循环\n",
    "- 循环是一种控制语句块重复执行的结构\n",
    "- while  适用于广度遍历\n",
    "- for    开发中经常使用"
   ]
  },
  {
   "cell_type": "markdown",
   "metadata": {},
   "source": [
    "## while 循环\n",
    "- 当一个条件保持真的时候while循环重复执行语句\n",
    "- while 循环一定要有结束条件，否则很容易进入死循环\n",
    "- while 循环的语法是：\n",
    "\n",
    "    while loop-contunuation-conndition:\n",
    "\n",
    "        Statement"
   ]
  },
  {
   "cell_type": "markdown",
   "metadata": {},
   "source": [
    "## 示例：\n",
    "sum = 0\n",
    "\n",
    "i = 1\n",
    "\n",
    "while i <10:\n",
    "\n",
    "    sum = sum + i\n",
    "    i = i + 1"
   ]
  },
  {
   "cell_type": "markdown",
   "metadata": {},
   "source": [
    "## 错误示例：\n",
    "sum = 0\n",
    "\n",
    "i = 1\n",
    "\n",
    "while i <10:\n",
    "\n",
    "    sum = sum + i\n",
    "\n",
    "i = i + 1\n",
    "- 一旦进入死循环可按 Ctrl + c 停止"
   ]
  },
  {
   "cell_type": "markdown",
   "metadata": {},
   "source": [
    "## EP：\n",
    "![](../Photo/143.png)\n",
    "![](../Photo/144.png)"
   ]
  },
  {
   "cell_type": "markdown",
   "metadata": {},
   "source": [
    "# 验证码\n",
    "- 随机产生四个字母的验证码，如果正确，输出验证码正确。如果错误，产生新的验证码，用户重新输入。\n",
    "- 验证码只能输入三次，如果三次都错，返回“别爬了，我们小网站没什么好爬的”\n",
    "- 密码登录，如果三次错误，账号被锁定\n"
   ]
  },
  {
   "cell_type": "code",
   "execution_count": 4,
   "metadata": {},
   "outputs": [
    {
     "name": "stdout",
     "output_type": "stream",
     "text": [
      "验证码为h6jp\n",
      "输入你看到的验证码：5555\n",
      "验证失败，输入错误不能超过三次\n",
      "验证码为69mc\n",
      "输入你看到的验证码：5555\n",
      "验证失败，输入错误不能超过三次\n",
      "验证码为96r4\n",
      "输入你看到的验证码：555\n",
      "验证失败，输入错误不能超过三次\n",
      "验证码验证超过上限，您需到官网上解锁\n"
     ]
    }
   ],
   "source": [
    "import random\n",
    "a = [\"a\",\"b\",\"c\",\"d\",\"e\",\"f\",\"g\",\"h\",\"i\",\"j\",\"k\",\"l\",\"m\",\"n\",\"o\",\"p\",\"q\",\"r\",\"s\",\"t\",\"u\",\"v\",\"w\",\"x\",\"y\",\"z\",\"0\",\"1\",\"2\",\"3\",\"4\",\"5\",\"6\",\"7\",\"8\",\"9\"]\n",
    "i = 0\n",
    "while i < 3:\n",
    "    randint1 = random.randint(1,36)\n",
    "    randint2 = random.randint(1,36)\n",
    "    randint3 = random.randint(1,36)\n",
    "    randint4 = random.randint(1,36)\n",
    "    b = a[randint1] + a[randint2]+ a[randint3] + a[randint4]\n",
    "    print(\"验证码为\" + str(b))\n",
    "    num = input(\"输入你看到的验证码：\")\n",
    "    if num == b:\n",
    "        print(\"验证成功\")\n",
    "        break\n",
    "    else :\n",
    "        print(\"验证失败，输入错误不能超过三次\")\n",
    "        i = i + 1\n",
    "else :\n",
    "    print(\"验证码验证超过上限，您需到官网上解锁\")"
   ]
  },
  {
   "cell_type": "markdown",
   "metadata": {},
   "source": [
    "## 尝试死循环"
   ]
  },
  {
   "cell_type": "markdown",
   "metadata": {},
   "source": [
    "## 实例研究：猜数字\n",
    "- 你将要编写一个能够随机生成一个0到10之间的且包括两者的数字程序，这个程序\n",
    "- 提示用户连续地输入数字直到正确，且提示用户输入的数字是过高还是过低"
   ]
  },
  {
   "cell_type": "code",
   "execution_count": 2,
   "metadata": {},
   "outputs": [
    {
     "name": "stdout",
     "output_type": "stream",
     "text": [
      "请输入一个数字5\n",
      "太大了，输入的小一点\n",
      "请输入一个数字3\n",
      "你真棒\n"
     ]
    }
   ],
   "source": [
    "import random\n",
    "randint = random.randint(0,10)\n",
    "while 1:\n",
    "    num = eval (input(\"请输入一个数字\"))\n",
    "    if num == randint:\n",
    "        print(\"你真棒\")\n",
    "        break\n",
    "    elif num > randint:\n",
    "        print(\"太大了，输入的小一点\")\n",
    "    else :\n",
    "        print(\"太小了，输入的大一点\")"
   ]
  },
  {
   "cell_type": "markdown",
   "metadata": {},
   "source": [
    "## 使用哨兵值来控制循环\n",
    "- 哨兵值来表明输入的结束\n",
    "- ![](../Photo/54.png)"
   ]
  },
  {
   "cell_type": "markdown",
   "metadata": {},
   "source": [
    "## 警告\n",
    "![](../Photo/55.png)"
   ]
  },
  {
   "cell_type": "markdown",
   "metadata": {},
   "source": [
    "## for 循环\n",
    "- Python的for 循环通过一个序列中的每个值来进行迭代\n",
    "- range(a,b,k)， a，b，k 必须为整数\n",
    "- a: start\n",
    "- b: end\n",
    "- k: step\n",
    "- 注意for 是循环一切可迭代对象，而不是只能使用range"
   ]
  },
  {
   "cell_type": "code",
   "execution_count": 1,
   "metadata": {},
   "outputs": [
    {
     "name": "stdout",
     "output_type": "stream",
     "text": [
      ">>2\n",
      ">>3\n",
      ">>4\n",
      ">>5\n",
      ">>0\n",
      "14 4\n"
     ]
    }
   ],
   "source": [
    "number = 0\n",
    "sum = 0\n",
    "for count in range(5):\n",
    "    number = eval (input(\">>\"))\n",
    "    sum += number\n",
    "print(sum,count)"
   ]
  },
  {
   "cell_type": "markdown",
   "metadata": {},
   "source": [
    "# 在Python里面一切皆对象"
   ]
  },
  {
   "cell_type": "markdown",
   "metadata": {},
   "source": [
    "## EP:\n",
    "- ![](../Photo/145.png)"
   ]
  },
  {
   "cell_type": "code",
   "execution_count": 10,
   "metadata": {},
   "outputs": [
    {
     "name": "stdout",
     "output_type": "stream",
     "text": [
      "a\n",
      "b\n",
      "c\n",
      "d\n",
      "e\n",
      "f\n",
      "g\n"
     ]
    }
   ],
   "source": [
    "i = 0\n",
    "str_ = \"abcdefg\"\n",
    "while i < 7:\n",
    "    print(str_[i])\n",
    "    i = i + 1"
   ]
  },
  {
   "cell_type": "code",
   "execution_count": 1,
   "metadata": {},
   "outputs": [
    {
     "name": "stdout",
     "output_type": "stream",
     "text": [
      "10011\n"
     ]
    }
   ],
   "source": [
    "i = 1\n",
    "sum_ = 0\n",
    "while sum_ < 10000:\n",
    "    sum_ = sum_ + i\n",
    "    i = i + 1\n",
    "print(sum_)"
   ]
  },
  {
   "cell_type": "markdown",
   "metadata": {},
   "source": [
    "## 嵌套循环\n",
    "- 一个循环可以嵌套另一个循环\n",
    "- 每次循环外层时，内层循环都会被刷新重新完成循环\n",
    "- 也就是说，大循环执行一次，小循环会全部执行一次\n",
    "- 注意：\n",
    "> - 多层循环非常耗时\n",
    "  - 最多使用3层循环"
   ]
  },
  {
   "cell_type": "markdown",
   "metadata": {},
   "source": [
    "## EP：\n",
    "- 使用多层循环完成9X9乘法表\n",
    "- 显示50以内所有的素数"
   ]
  },
  {
   "cell_type": "code",
   "execution_count": 4,
   "metadata": {},
   "outputs": [
    {
     "name": "stdout",
     "output_type": "stream",
     "text": [
      "1x1=1\t\n",
      "1x2=2\t2x2=4\t\n",
      "1x3=3\t2x3=6\t3x3=9\t\n",
      "1x4=4\t2x4=8\t3x4=12\t4x4=16\t\n",
      "1x5=5\t2x5=10\t3x5=15\t4x5=20\t5x5=25\t\n",
      "1x6=6\t2x6=12\t3x6=18\t4x6=24\t5x6=30\t6x6=36\t\n",
      "1x7=7\t2x7=14\t3x7=21\t4x7=28\t5x7=35\t6x7=42\t7x7=49\t\n",
      "1x8=8\t2x8=16\t3x8=24\t4x8=32\t5x8=40\t6x8=48\t7x8=56\t8x8=64\t\n",
      "1x9=9\t2x9=18\t3x9=27\t4x9=36\t5x9=45\t6x9=54\t7x9=63\t8x9=72\t9x9=81\t\n"
     ]
    }
   ],
   "source": [
    "for i in range(1, 10):\n",
    "    for j in range(1, i+1):\n",
    "        print(\"{}x{}={}\\t\".format(j, i, i*j), end=\"\")\n",
    "    print()"
   ]
  },
  {
   "cell_type": "code",
   "execution_count": 8,
   "metadata": {},
   "outputs": [
    {
     "name": "stdout",
     "output_type": "stream",
     "text": [
      "[2, 3, 5, 7, 11, 13, 17, 19, 23, 29, 31, 37, 41, 43, 47]\n"
     ]
    }
   ],
   "source": [
    "list_ = []\n",
    "for n in range(1,51):\n",
    "    if n == 1:\n",
    "        continue\n",
    "    elif n == 2:\n",
    "        list_.append(2)\n",
    "    else:\n",
    "        if 0 not in [n%i for i in range(2,n)]:\n",
    "            list_.append(n)\n",
    "print (list_)"
   ]
  },
  {
   "cell_type": "code",
   "execution_count": 13,
   "metadata": {},
   "outputs": [
    {
     "name": "stdout",
     "output_type": "stream",
     "text": [
      "2 3 5 7 11 13 17 19 23 29 31 37 41 43 47 "
     ]
    }
   ],
   "source": [
    "for i in range(2,51):\n",
    "    for j in range(2, i):\n",
    "        if i % j == 0:\n",
    "            break\n",
    "    else:\n",
    "        print(i, end = \" \")"
   ]
  },
  {
   "cell_type": "markdown",
   "metadata": {},
   "source": [
    "## 关键字 break 和 continue\n",
    "- break 跳出循环，终止循环\n",
    "- continue 跳出此次循环，继续执行"
   ]
  },
  {
   "cell_type": "markdown",
   "metadata": {},
   "source": [
    "## 注意\n",
    "![](../Photo/56.png)\n",
    "![](../Photo/57.png)"
   ]
  },
  {
   "cell_type": "markdown",
   "metadata": {},
   "source": [
    "# Homework\n",
    "- 1 \n",
    "![](../Photo/58.png)"
   ]
  },
  {
   "cell_type": "code",
   "execution_count": 10,
   "metadata": {},
   "outputs": [
    {
     "name": "stdout",
     "output_type": "stream",
     "text": [
      "输入一个数6\n",
      "输入一个数-3\n",
      "输入一个数3\n",
      "输入一个数0\n",
      "输入的正数的个数：2\n",
      "输入的负数的个数：1\n",
      "输入的数的总和：6\n",
      "输入的数的平均值：2.0\n"
     ]
    }
   ],
   "source": [
    "num = eval(input(\"输入一个数\"))\n",
    "a = 0              #a表示正数的个数\n",
    "b = 0              #b表示负数的个数\n",
    "c = 0              #c表示循环的次数\n",
    "sum_ = 0\n",
    "while num != 0:\n",
    "    if num > 0 :\n",
    "        a = a + 1\n",
    "    else :\n",
    "        b = b + 1\n",
    "    sum_ = sum_ + num\n",
    "    c = c + 1\n",
    "    aver = sum_ / c\n",
    "    num = eval(input(\"输入一个数\"))\n",
    "print(\"输入的正数的个数：\" + str(a))\n",
    "print(\"输入的负数的个数：\" + str(b))\n",
    "print(\"输入的数的总和：\" + str(sum_))\n",
    "print(\"输入的数的平均值：\" + str(aver))"
   ]
  },
  {
   "cell_type": "markdown",
   "metadata": {},
   "source": [
    "- 2\n",
    "![](../Photo/59.png)"
   ]
  },
  {
   "cell_type": "code",
   "execution_count": 27,
   "metadata": {},
   "outputs": [
    {
     "name": "stdout",
     "output_type": "stream",
     "text": [
      "十年之后的学费是16288.946267774418\n"
     ]
    }
   ],
   "source": [
    "money = 10000\n",
    "for i in range(1,11):\n",
    "    money = money * (1 + 0.05)\n",
    "    if i < 10 :\n",
    "        i = i + 1\n",
    "    else :\n",
    "        print(\"十年之后的学费是\" + str(money))"
   ]
  },
  {
   "cell_type": "markdown",
   "metadata": {},
   "source": [
    "- 3\n",
    "![](../Photo/60.png)"
   ]
  },
  {
   "cell_type": "code",
   "execution_count": 12,
   "metadata": {},
   "outputs": [
    {
     "name": "stdout",
     "output_type": "stream",
     "text": [
      "120 150 180 210 240 270 300 330 360 390 \n",
      "420 450 480 510 540 570 600 630 660 690 \n",
      "720 750 780 810 840 870 900 930 960 990 \n"
     ]
    }
   ],
   "source": [
    "i = 100\n",
    "count = 0\n",
    "while i < 1000:\n",
    "    a = a + 1\n",
    "    if (i % 5 == 0) and (i % 6 == 0):\n",
    "        print(i, end=\" \")\n",
    "        count = count + 1\n",
    "        if (count % 10 == 0): \n",
    "            print(end=\"\\n\")\n",
    "    i = i + 1"
   ]
  },
  {
   "cell_type": "markdown",
   "metadata": {},
   "source": [
    "- 4\n",
    "![](../Photo/61.png)"
   ]
  },
  {
   "cell_type": "code",
   "execution_count": 30,
   "metadata": {
    "scrolled": false
   },
   "outputs": [
    {
     "name": "stdout",
     "output_type": "stream",
     "text": [
      "满足n**2大于1200的最小整数n为110\n"
     ]
    }
   ],
   "source": [
    "n = 0\n",
    "while n**2 <= 12000 :\n",
    "    n = n + 1\n",
    "    continue\n",
    "print(\"满足n**2大于1200的最小整数n为\" + str(n))"
   ]
  },
  {
   "cell_type": "code",
   "execution_count": 31,
   "metadata": {},
   "outputs": [
    {
     "name": "stdout",
     "output_type": "stream",
     "text": [
      "满足n**3小于1200的最大整数n为22\n"
     ]
    }
   ],
   "source": [
    "n = 0\n",
    "while n**3 <= 12000 :\n",
    "    n = n + 1\n",
    "    continue\n",
    "print(\"满足n**3小于1200的最大整数n为\" + str(n - 1))"
   ]
  },
  {
   "cell_type": "markdown",
   "metadata": {},
   "source": [
    "- 5\n",
    "![](../Photo/62.png)"
   ]
  },
  {
   "cell_type": "markdown",
   "metadata": {},
   "source": [
    "- 6\n",
    "![](../Photo/63.png)"
   ]
  },
  {
   "cell_type": "code",
   "execution_count": 87,
   "metadata": {},
   "outputs": [
    {
     "name": "stdout",
     "output_type": "stream",
     "text": [
      "11.397003949278504\n"
     ]
    }
   ],
   "source": [
    "sum_ = 0\n",
    "for i in range(1,50001):\n",
    "    j = 1 / i\n",
    "    sum_ = sum_ + j\n",
    "print(sum_)"
   ]
  },
  {
   "cell_type": "markdown",
   "metadata": {},
   "source": [
    "- 7\n",
    "![](../Photo/64.png)"
   ]
  },
  {
   "cell_type": "code",
   "execution_count": 97,
   "metadata": {},
   "outputs": [
    {
     "name": "stdout",
     "output_type": "stream",
     "text": [
      "45.124450303050196\n"
     ]
    }
   ],
   "source": [
    "sum_ =  0\n",
    "for i in range(1,98):\n",
    "    if i % 2 != 0:\n",
    "        j = i / (i + 2)\n",
    "        sum_ = sum_ + j\n",
    "print(sum_)"
   ]
  },
  {
   "cell_type": "markdown",
   "metadata": {},
   "source": [
    "- 8\n",
    "![](../Photo/65.png)"
   ]
  },
  {
   "cell_type": "code",
   "execution_count": 102,
   "metadata": {},
   "outputs": [
    {
     "name": "stdout",
     "output_type": "stream",
     "text": [
      "3.1414926535900345\n"
     ]
    }
   ],
   "source": [
    "sum_ = 0\n",
    "for i in range(1,10001):\n",
    "    j = 4 * ((-1)**(i+1) / (2 * i - 1))\n",
    "    sum_ = sum_ + j\n",
    "print(sum_)"
   ]
  },
  {
   "cell_type": "code",
   "execution_count": 101,
   "metadata": {},
   "outputs": [
    {
     "name": "stdout",
     "output_type": "stream",
     "text": [
      "3.1415426535898248\n"
     ]
    }
   ],
   "source": [
    "sum_ = 0\n",
    "for i in range(1,20001):\n",
    "    j = 4 * ((-1)**(i+1) / (2 * i - 1))\n",
    "    sum_ = sum_ + j\n",
    "print(sum_)"
   ]
  },
  {
   "cell_type": "code",
   "execution_count": 103,
   "metadata": {},
   "outputs": [
    {
     "name": "stdout",
     "output_type": "stream",
     "text": [
      "3.141559320256462\n"
     ]
    }
   ],
   "source": [
    "sum_ = 0\n",
    "for i in range(1,30001):\n",
    "    j = 4 * ((-1)**(i+1) / (2 * i - 1))\n",
    "    sum_ = sum_ + j\n",
    "print(sum_)"
   ]
  },
  {
   "cell_type": "markdown",
   "metadata": {},
   "source": [
    "- 9 \n",
    "![](../Photo/66.png)"
   ]
  },
  {
   "cell_type": "code",
   "execution_count": 50,
   "metadata": {},
   "outputs": [
    {
     "name": "stdout",
     "output_type": "stream",
     "text": [
      "6\n",
      "24\n",
      "28\n",
      "496\n"
     ]
    }
   ],
   "source": [
    "for i in range(1,1000):\n",
    "    sum_ = 0                          #sum_为i的正因子和\n",
    "    for k in range(1,i):           #j为i的正因子\n",
    "        if i % j == 0:\n",
    "            sum_ = sum_ + j\n",
    "            if i == sum_:\n",
    "                print(i)"
   ]
  },
  {
   "cell_type": "markdown",
   "metadata": {},
   "source": [
    "- 10\n",
    "![](../Photo/67.png)"
   ]
  },
  {
   "cell_type": "code",
   "execution_count": 39,
   "metadata": {},
   "outputs": [
    {
     "name": "stdout",
     "output_type": "stream",
     "text": [
      "1 2\n",
      "1 3\n",
      "1 4\n",
      "1 5\n",
      "1 6\n",
      "1 7\n",
      "2 3\n",
      "2 4\n",
      "2 5\n",
      "2 6\n",
      "2 7\n",
      "3 4\n",
      "3 5\n",
      "3 6\n",
      "3 7\n",
      "4 5\n",
      "4 6\n",
      "4 7\n",
      "5 6\n",
      "5 7\n",
      "6 7\n",
      "21\n"
     ]
    }
   ],
   "source": [
    "count = 0\n",
    "for i in range(1,8):\n",
    "    for j in range(i,8):\n",
    "        count = count + 1\n",
    "        if i != j :\n",
    "            print(i,j)\n",
    "print(count - 7)"
   ]
  },
  {
   "cell_type": "markdown",
   "metadata": {},
   "source": [
    "- 11\n",
    "![](../Photo/68.png)"
   ]
  }
 ],
 "metadata": {
  "kernelspec": {
   "display_name": "Python 3",
   "language": "python",
   "name": "python3"
  },
  "language_info": {
   "codemirror_mode": {
    "name": "ipython",
    "version": 3
   },
   "file_extension": ".py",
   "mimetype": "text/x-python",
   "name": "python",
   "nbconvert_exporter": "python",
   "pygments_lexer": "ipython3",
   "version": "3.6.4"
  }
 },
 "nbformat": 4,
 "nbformat_minor": 2
}

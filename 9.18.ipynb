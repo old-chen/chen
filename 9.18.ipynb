{
 "cells": [
  {
   "cell_type": "markdown",
   "metadata": {},
   "source": [
    "# 更多字符串和特殊方法\n",
    "- 前面我们已经学了类，在Python中还有一些特殊的方法起着非常重要的作用，这里会介绍一些特殊的方法和运算符的重载，以及使用特殊方法设计类"
   ]
  },
  {
   "cell_type": "markdown",
   "metadata": {},
   "source": [
    "## str 类\n",
    "- 一个str对象是不可变的，也就是说，一旦创建了这个字符串，那么它的内容在认为不改变的情况下是不会变的\n",
    "- s1 = str()\n",
    "- s2 = str('welcome to Python')"
   ]
  },
  {
   "cell_type": "markdown",
   "metadata": {},
   "source": [
    "## 创建两个对象，分别观察两者id\n",
    "- id为Python内存地址"
   ]
  },
  {
   "cell_type": "markdown",
   "metadata": {},
   "source": [
    "## 处理字符串的函数\n",
    "- len\n",
    "- max\n",
    "- min\n",
    "- 字符串一切是按照ASCII码值进行比较"
   ]
  },
  {
   "cell_type": "markdown",
   "metadata": {},
   "source": [
    "## 下角标运算符 []\n",
    "- 一个字符串是一个字符序列，可以通过索引进行访问\n",
    "- 观察字符串是否是一个可迭代序列  \\__iter__"
   ]
  },
  {
   "cell_type": "markdown",
   "metadata": {},
   "source": [
    "## 切片 [start: end]\n",
    "- start 默认值为0\n",
    "- end 默认值为-1"
   ]
  },
  {
   "cell_type": "markdown",
   "metadata": {},
   "source": [
    "## 链接运算符 + 和复制运算符 *\n",
    "- \\+ 链接多个字符串，同时''.join()也是\n",
    "- \\* 复制多个字符串"
   ]
  },
  {
   "cell_type": "code",
   "execution_count": 13,
   "metadata": {},
   "outputs": [
    {
     "data": {
      "text/plain": [
       "'cvbsdkada'"
      ]
     },
     "execution_count": 13,
     "metadata": {},
     "output_type": "execute_result"
    }
   ],
   "source": [
    "a = \"sdk\"\n",
    "b = \"ada\"\n",
    "c = \"cvb\"\n",
    "a.join([c,b])"
   ]
  },
  {
   "cell_type": "markdown",
   "metadata": {},
   "source": [
    "## in 和 not in 运算符\n",
    "- in :判断某个字符是否在字符串内 \n",
    "- not in ：判断某个字符是否不在字符串内\n",
    "- 返回的是布尔值"
   ]
  },
  {
   "cell_type": "code",
   "execution_count": 2,
   "metadata": {},
   "outputs": [
    {
     "name": "stdout",
     "output_type": "stream",
     "text": [
      "True\n"
     ]
    }
   ],
   "source": [
    "a = \"jokerisabadman\"\n",
    "def chazhao(str_):\n",
    "    for i in a:\n",
    "        if str_ == i:\n",
    "            print(True)\n",
    "            break\n",
    "    else:\n",
    "        print(False)\n",
    "chazhao(\"j\")"
   ]
  },
  {
   "cell_type": "markdown",
   "metadata": {},
   "source": [
    "## 比较字符串\n",
    "-  ==, !=, >=, <=, >, <\n",
    "- 依照ASCII码值进行比较"
   ]
  },
  {
   "cell_type": "markdown",
   "metadata": {},
   "source": [
    "## 测试字符串\n",
    "![](../Photo/99.png)\n",
    "- 注意：\n",
    "> - isalnum() 中是不能包含空格，否则会返回False"
   ]
  },
  {
   "cell_type": "code",
   "execution_count": 6,
   "metadata": {},
   "outputs": [
    {
     "name": "stdout",
     "output_type": "stream",
     "text": [
      "密码设置成功\n"
     ]
    }
   ],
   "source": [
    "def password():\n",
    "    a = \"Aabc123\"\n",
    "    count0 = 0\n",
    "    count1 = 0\n",
    "    count2 = 0\n",
    "    for i in a:\n",
    "        if i.islower() is True:\n",
    "            count0 += 1\n",
    "        if i.isupper() is True:\n",
    "            count1 += 1\n",
    "        if i.isdigit() is True:\n",
    "            count2 += 1\n",
    "    else:\n",
    "        if count0 == 0:\n",
    "            print(\"密码必须含有小写字母\")\n",
    "        if count1 == 0:\n",
    "            print(\"密码必须含有大写字母\")\n",
    "        if count2 == 0:\n",
    "            print(\"密码必须含有数字\")\n",
    "        if count0 != 0 and count1 != 0 and count2 != 0:\n",
    "            print(\"密码设置成功\")\n",
    "password()"
   ]
  },
  {
   "cell_type": "markdown",
   "metadata": {},
   "source": [
    "## 搜索子串\n",
    "![](../Photo/100.png)"
   ]
  },
  {
   "cell_type": "markdown",
   "metadata": {},
   "source": [
    "## 转换字符串\n",
    "![](../Photo/101.png)"
   ]
  },
  {
   "cell_type": "code",
   "execution_count": 1,
   "metadata": {},
   "outputs": [
    {
     "name": "stdout",
     "output_type": "stream",
     "text": [
      "验证码为QVNQ\n",
      "输入你看到的验证码：qvnq\n",
      "验证成功\n"
     ]
    }
   ],
   "source": [
    "def yanzhengma():\n",
    "    import random\n",
    "    randint1 = chr(random.randint(97,122))\n",
    "    randint2 = chr(random.randint(65,90))\n",
    "    randint3 = chr(random.randint(65,90))\n",
    "    randint4 = chr(random.randint(97,122))\n",
    "    b = randint1 + randint2+ randint3 + randint4\n",
    "    b = b.upper()\n",
    "    print(\"验证码为\" + str(b))\n",
    "    num = input(\"输入你看到的验证码：\")\n",
    "    num = num.upper()\n",
    "    if num == b:\n",
    "        print(\"验证成功\")\n",
    "    else :\n",
    "        print(\"验证失败\")\n",
    "yanzhengma()"
   ]
  },
  {
   "cell_type": "markdown",
   "metadata": {},
   "source": [
    "## 删除字符串\n",
    "![](../Photo/146.png)"
   ]
  },
  {
   "cell_type": "code",
   "execution_count": 6,
   "metadata": {},
   "outputs": [
    {
     "data": {
      "text/plain": [
       "'asdasdisedfsadsadot'"
      ]
     },
     "execution_count": 6,
     "metadata": {},
     "output_type": "execute_result"
    }
   ],
   "source": [
    "a = \" asda  sdi& sedf! @$sad  sadot&% \"\n",
    "a.replace(\"!\",\"\").replace(\" \",\"\").replace(\"&\",\"\").replace(\"%\",\"\").replace(\"$\",\"\").replace(\"@\",\"\")"
   ]
  },
  {
   "cell_type": "markdown",
   "metadata": {},
   "source": [
    "## 格式化字符串\n",
    "![](../Photo/103.png)"
   ]
  },
  {
   "cell_type": "markdown",
   "metadata": {},
   "source": [
    "## EP:\n",
    "- 1\n",
    "![](../Photo/104.png)\n",
    "- 2 \n",
    "    随机参数100个数字，将www.baidu.com/?page=进行拼接"
   ]
  },
  {
   "cell_type": "markdown",
   "metadata": {},
   "source": [
    "## Python高级使用方法 -- 字符串\n",
    "- 我们经常使用的方法实际上就是调用Python的运算重载\n",
    "![](../Photo/105.png)"
   ]
  },
  {
   "cell_type": "markdown",
   "metadata": {},
   "source": [
    "# Homework\n",
    "- 1\n",
    "![](../Photo/106.png)"
   ]
  },
  {
   "cell_type": "code",
   "execution_count": 7,
   "metadata": {},
   "outputs": [
    {
     "name": "stdout",
     "output_type": "stream",
     "text": [
      "输入社会安全号码：ddd-dd-dddd：586-22-1456\n",
      "Valid SSN\n"
     ]
    }
   ],
   "source": [
    "def Number():\n",
    "    num = str(input(\"输入社会安全号码：ddd-dd-dddd：\"))\n",
    "    if (num[3] == \"-\") and (num[6] == \"-\"):\n",
    "        print(\"Valid SSN\")\n",
    "    else:\n",
    "        print(\"Invalid SSN\")\n",
    "Number()"
   ]
  },
  {
   "cell_type": "markdown",
   "metadata": {},
   "source": [
    "- 2\n",
    "![](../Photo/107.png)"
   ]
  },
  {
   "cell_type": "code",
   "execution_count": 21,
   "metadata": {},
   "outputs": [
    {
     "name": "stdout",
     "output_type": "stream",
     "text": [
      "输入一个字符串：fg\n",
      "输入另一个字符串：qwertt\n",
      "第一个字符串不在第二个字符串里\n",
      "-1\n"
     ]
    }
   ],
   "source": [
    "def myself():\n",
    "    str_1 = str(input(\"输入一个字符串：\"))\n",
    "    str_2 = str(input(\"输入另一个字符串：\"))\n",
    "    if str_2.find(str_1) == -1:\n",
    "        print(\"第一个字符串不在第二个字符串里\")\n",
    "    else:\n",
    "        print(\"第一个字符串在第二个字符串里\")\n",
    "myself()"
   ]
  },
  {
   "cell_type": "markdown",
   "metadata": {},
   "source": [
    "- 3\n",
    "![](../Photo/108.png)"
   ]
  },
  {
   "cell_type": "code",
   "execution_count": 39,
   "metadata": {},
   "outputs": [
    {
     "name": "stdout",
     "output_type": "stream",
     "text": [
      "输入一个密码：asd\n",
      "密码最少8位\n",
      "密码必须含有两个数字\n"
     ]
    }
   ],
   "source": [
    "def password():\n",
    "    password = input(\"输入一个密码：\")\n",
    "    count0 = 0\n",
    "    count1 = 0\n",
    "    count2 = 0\n",
    "    for i in password:\n",
    "        if i.isalpha() is True:\n",
    "            count1 += 1\n",
    "        if i.isdigit() is True:\n",
    "            count2 += 1\n",
    "        count0 += 1\n",
    "    else:\n",
    "        if count0 < 8:\n",
    "            print(\"密码最少8位\")\n",
    "        if count1 == 0:\n",
    "            print(\"密码必须含有字母\")\n",
    "        if count2 < 2:\n",
    "            print(\"密码必须含有两个数字\")\n",
    "        if count0 >= 8 and count1 != 0 and count2 >= 2 :\n",
    "            print(\"密码设置成功\")\n",
    "password()"
   ]
  },
  {
   "cell_type": "markdown",
   "metadata": {},
   "source": [
    "- 4\n",
    "![](../Photo/109.png)"
   ]
  },
  {
   "cell_type": "code",
   "execution_count": 50,
   "metadata": {},
   "outputs": [
    {
     "name": "stdout",
     "output_type": "stream",
     "text": [
      "字符串中字母的次数为：3\n"
     ]
    }
   ],
   "source": [
    "def countLetters(s):\n",
    "    count = 0\n",
    "    for i in s:\n",
    "        if 65 <= ord(i) <=90 or 97 <= ord(i) <=122:\n",
    "            count += 1\n",
    "    else:\n",
    "        print(\"字符串中字母的次数为：\" + str(count))\n",
    "countLetters(s = \"asd123../*\")"
   ]
  },
  {
   "cell_type": "markdown",
   "metadata": {},
   "source": [
    "- 5\n",
    "![](../Photo/110.png)"
   ]
  },
  {
   "cell_type": "markdown",
   "metadata": {},
   "source": [
    "- 6\n",
    "![](../Photo/111.png)"
   ]
  },
  {
   "cell_type": "code",
   "execution_count": 5,
   "metadata": {},
   "outputs": [
    {
     "name": "stdout",
     "output_type": "stream",
     "text": [
      "lkjhgfdsa\n"
     ]
    }
   ],
   "source": [
    "def reverse(s):\n",
    "    result = s[::-1]\n",
    "    print(result)\n",
    "reverse(s = \"asdfghjkl\")"
   ]
  },
  {
   "cell_type": "markdown",
   "metadata": {},
   "source": [
    "- 7\n",
    "![](../Photo/112.png)"
   ]
  },
  {
   "cell_type": "code",
   "execution_count": 1,
   "metadata": {},
   "outputs": [
    {
     "name": "stdout",
     "output_type": "stream",
     "text": [
      "输入一个信用卡号438857601840707\n",
      "ok\n"
     ]
    }
   ],
   "source": [
    "def xinyongka():\n",
    "    num=str(input(\"输入一个信用卡号\"))\n",
    "    dig=[]\n",
    "    ji_list=[]\n",
    "    sum_a=0\n",
    "    for i in num:\n",
    "        dig.append(i)\n",
    "    for i in dig[::2]:\n",
    "        ji=int(i)*2\n",
    "        if len(i)==2:\n",
    "            ji1=int(i)%10+int(i)//10\n",
    "            ji_list.append(int(ji1))\n",
    "        else:\n",
    "            ji_list.append(int(ji))\n",
    "    for i in dig[1::2]:\n",
    "        sum_a=sum_a+int(i)\n",
    "    he=sum(ji_list)+sum_a\n",
    "    if he%10==0:\n",
    "        print ('这个卡号合法')\n",
    "    else:\n",
    "        print ('这个卡号合法')\n",
    "xinyongka()"
   ]
  },
  {
   "cell_type": "markdown",
   "metadata": {},
   "source": [
    "- 8\n",
    "![](../Photo/113.png)"
   ]
  },
  {
   "cell_type": "code",
   "execution_count": 5,
   "metadata": {},
   "outputs": [
    {
     "name": "stdout",
     "output_type": "stream",
     "text": [
      "输入书籍号的前12位: 978013213079\n",
      "这个书籍号是 9780132130790\n"
     ]
    }
   ],
   "source": [
    "def main():\n",
    "    num = input(\"输入书籍号的前12位: \")\n",
    "    sum_ = 0\n",
    "    for i in range(12):\n",
    "        sum_ += int(num[i]) * (1 if i % 2 == 0 else 3) \n",
    "    checksum = 10 - sum_ % 10\n",
    "    if checksum == 10: \n",
    "        checksum = 0\n",
    "    print(\"这个书籍号是 \" + num + str(checksum))\n",
    "main()"
   ]
  },
  {
   "cell_type": "markdown",
   "metadata": {},
   "source": [
    "- 9\n",
    "![](../Photo/114.png)"
   ]
  }
 ],
 "metadata": {
  "kernelspec": {
   "display_name": "Python 3",
   "language": "python",
   "name": "python3"
  },
  "language_info": {
   "codemirror_mode": {
    "name": "ipython",
    "version": 3
   },
   "file_extension": ".py",
   "mimetype": "text/x-python",
   "name": "python",
   "nbconvert_exporter": "python",
   "pygments_lexer": "ipython3",
   "version": "3.6.4"
  }
 },
 "nbformat": 4,
 "nbformat_minor": 2
}
